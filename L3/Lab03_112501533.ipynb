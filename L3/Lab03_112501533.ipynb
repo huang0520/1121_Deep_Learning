{
 "cells": [
  {
   "cell_type": "markdown",
   "metadata": {},
   "source": [
    "# Decision Trees & Random Forests\n",
    "\n",
    "Tutor link: https://nthu-datalab.github.io/ml/labs/03_Decision-Tree_Random-Forest/03_Decision-Tree_Random-Forest.html\n"
   ]
  },
  {
   "cell_type": "code",
   "execution_count": 150,
   "metadata": {},
   "outputs": [],
   "source": [
    "import numpy as np\n",
    "import pandas as pd\n",
    "from sklearn.datasets import load_breast_cancer\n",
    "from sklearn.ensemble import RandomForestClassifier\n",
    "from sklearn.metrics import accuracy_score\n",
    "from sklearn.model_selection import train_test_split\n",
    "from sklearn.preprocessing import StandardScaler\n",
    "\n",
    "%matplotlib inline\n"
   ]
  },
  {
   "cell_type": "markdown",
   "metadata": {},
   "source": [
    "## Create unoptimized model\n"
   ]
  },
  {
   "cell_type": "code",
   "execution_count": 151,
   "metadata": {},
   "outputs": [
    {
     "name": "stdout",
     "output_type": "stream",
     "text": [
      "Accuracy: 0.98\n",
      "Accuracy per feature: 0.03\n"
     ]
    }
   ],
   "source": [
    "# load the breast_cancer dataset\n",
    "init_data = load_breast_cancer()\n",
    "(X, y) = load_breast_cancer(return_X_y=True)\n",
    "X = pd.DataFrame(data=X, columns=init_data[\"feature_names\"])\n",
    "y = pd.DataFrame(data=y, columns=[\"label\"])\n",
    "\n",
    "# split X into training and testing sets\n",
    "X_train, X_test, y_train, y_test = train_test_split(\n",
    "    X.values, y.values.ravel(), test_size=0.3, random_state=0\n",
    ")\n",
    "\n",
    "# Train a RandomForestClassifier as model\n",
    "forest = RandomForestClassifier(\n",
    "    criterion=\"entropy\", n_estimators=200, random_state=1, n_jobs=4\n",
    ")\n",
    "\n",
    "forest.fit(X_train, y_train)\n",
    "\n",
    "y_pred = forest.predict(X_test)\n",
    "print(\"Accuracy: %.2f\" % accuracy_score(y_test, y_pred))\n",
    "print(\"Accuracy per feature: %.2f\" % (accuracy_score(y_test, y_pred) / X.shape[1]))\n"
   ]
  },
  {
   "cell_type": "markdown",
   "metadata": {},
   "source": [
    "## Feature selection\n"
   ]
  },
  {
   "cell_type": "code",
   "execution_count": 152,
   "metadata": {},
   "outputs": [],
   "source": [
    "# Z-normalize data\n",
    "sc = StandardScaler()\n",
    "Z = sc.fit_transform(X.values)\n",
    "# Estimate the correlation matrix\n",
    "R = np.dot(Z.T, Z) / X.shape[0]\n",
    "\n",
    "# Calculate the eigen values, eigen vectors\n",
    "eigen_vals, eigen_vecs = np.linalg.eigh(R)\n",
    "\n",
    "# Make a list of (eigenvalue, eigenvector) tuples\n",
    "eigen_pairs = [\n",
    "    (np.abs(eigen_vals[i]), eigen_vecs[:, i]) for i in range(len(eigen_vals))\n",
    "]\n",
    "\n",
    "# Sort the (eigenvalue, eigenvector) tuples from high to low\n",
    "eigen_pairs.sort(reverse=True)\n",
    "\n",
    "# Form the projection matrix\n",
    "num_feature = 2\n",
    "W = np.array(list(zip(*eigen_pairs))[-1])[:num_feature].T\n",
    "\n",
    "# Calculate z_pca\n",
    "Z_pca = Z.dot(W)\n"
   ]
  },
  {
   "cell_type": "markdown",
   "metadata": {},
   "source": [
    "## Using selected feature to train model\n"
   ]
  },
  {
   "cell_type": "code",
   "execution_count": 154,
   "metadata": {},
   "outputs": [
    {
     "name": "stdout",
     "output_type": "stream",
     "text": [
      "Accuracy: 0.91\n",
      "Accuracy per feature: 0.46\n"
     ]
    }
   ],
   "source": [
    "Z_pca_train, Z_pca_test, y_train, y_test = train_test_split(\n",
    "    Z_pca, y.values.ravel(), test_size=0.3, random_state=0\n",
    ")\n",
    "\n",
    "forest.fit(Z_pca_train, y_train)\n",
    "\n",
    "y_pred = forest.predict(Z_pca_test)\n",
    "print(\"Accuracy: %.2f\" % accuracy_score(y_test, y_pred))\n",
    "print(\"Accuracy per feature: %.2f\" % (accuracy_score(y_test, y_pred) / Z_pca.shape[1]))\n"
   ]
  }
 ],
 "metadata": {
  "kernelspec": {
   "display_name": "DL2023",
   "language": "python",
   "name": "python3"
  },
  "language_info": {
   "codemirror_mode": {
    "name": "ipython",
    "version": 3
   },
   "file_extension": ".py",
   "mimetype": "text/x-python",
   "name": "python",
   "nbconvert_exporter": "python",
   "pygments_lexer": "ipython3",
   "version": "3.10.12"
  }
 },
 "nbformat": 4,
 "nbformat_minor": 2
}
