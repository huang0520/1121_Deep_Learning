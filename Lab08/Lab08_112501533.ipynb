{
 "cells": [
  {
   "cell_type": "markdown",
   "metadata": {},
   "source": [
    " # Lab08: Cross Validation & Ensembling\n",
    " 112501533 黃思誠"
   ]
  },
  {
   "cell_type": "code",
   "execution_count": 1,
   "metadata": {},
   "outputs": [],
   "source": [
    "import pandas as pd\n",
    "from sklearn.ensemble import AdaBoostClassifier, BaggingClassifier, VotingClassifier\n",
    "from sklearn.metrics import accuracy_score\n",
    "from sklearn.model_selection import (\n",
    "    GridSearchCV,\n",
    "    cross_val_score,\n",
    ")\n",
    "from sklearn.neighbors import KNeighborsClassifier\n",
    "from sklearn.pipeline import Pipeline\n",
    "from sklearn.preprocessing import StandardScaler\n",
    "from sklearn.tree import DecisionTreeClassifier"
   ]
  },
  {
   "cell_type": "code",
   "execution_count": 2,
   "metadata": {},
   "outputs": [],
   "source": [
    "# Load data\n",
    "df_train = pd.read_csv(\"./data/train.csv\")\n",
    "df_test = pd.read_csv(\"./data/test.csv\")\n",
    "\n",
    "x_train, y_train = (\n",
    "    df_train.drop(columns=[\"Competitor\"]).to_numpy(),\n",
    "    df_train[\"Competitor\"],\n",
    ")\n",
    "x_test, y_test = df_test.drop(columns=[\"Competitor\"]).to_numpy(), df_test[\"Competitor\"]\n",
    "\n",
    "label_to_idx = {\n",
    "    \"Kate\": 0,\n",
    "    \"Bob\": 1,\n",
    "    \"Mark\": 2,\n",
    "    \"Sue\": 3,\n",
    "}\n",
    "\n",
    "y_train = y_train.map(label_to_idx).to_numpy()\n",
    "y_test = y_test.map(label_to_idx).to_numpy()"
   ]
  },
  {
   "cell_type": "markdown",
   "metadata": {},
   "source": [
    " ## Voting"
   ]
  },
  {
   "cell_type": "code",
   "execution_count": 3,
   "metadata": {},
   "outputs": [
    {
     "name": "stdout",
     "output_type": "stream",
     "text": [
      "[Voting] Accuracy: 0.827 +/- 0.052\n"
     ]
    }
   ],
   "source": [
    "pipe_dt = Pipeline([[\"clf\", DecisionTreeClassifier(max_depth=3, random_state=0)]])\n",
    "pipe_knn = Pipeline(\n",
    "    [[\"sc\", StandardScaler()], [\"clf\", KNeighborsClassifier(n_neighbors=5)]]\n",
    ")\n",
    "\n",
    "clf = VotingClassifier(\n",
    "    estimators=[(\"dt\", pipe_dt), (\"knn\", pipe_knn)], voting=\"soft\", weights=[1, 3]\n",
    ")\n",
    "score = cross_val_score(\n",
    "    estimator=clf, X=x_train, y=y_train, cv=10, n_jobs=-1, scoring=\"accuracy\"\n",
    ")\n",
    "print(f\"[Voting] Accuracy: {score.mean():.3f} +/- {score.std():.3f}\")"
   ]
  },
  {
   "cell_type": "markdown",
   "metadata": {},
   "source": [
    " ## Bagging"
   ]
  },
  {
   "cell_type": "code",
   "execution_count": 4,
   "metadata": {},
   "outputs": [
    {
     "name": "stdout",
     "output_type": "stream",
     "text": [
      "[Bagging] Accuracy: 0.825 +/- 0.041\n"
     ]
    }
   ],
   "source": [
    "tree = DecisionTreeClassifier(criterion=\"entropy\", max_depth=None, random_state=0)\n",
    "bag = BaggingClassifier(\n",
    "    estimator=tree,\n",
    "    n_estimators=500,\n",
    "    max_samples=0.7,\n",
    "    bootstrap=True,\n",
    "    max_features=1.0,\n",
    "    bootstrap_features=False,\n",
    "    n_jobs=1,\n",
    "    random_state=1,\n",
    ")\n",
    "\n",
    "score = cross_val_score(\n",
    "    estimator=bag, X=x_train, y=y_train, cv=10, n_jobs=-1, scoring=\"accuracy\"\n",
    ")\n",
    "print(f\"[Bagging] Accuracy: {score.mean():.3f} +/- {score.std():.3f}\")"
   ]
  },
  {
   "cell_type": "markdown",
   "metadata": {},
   "source": [
    " ## Boosting"
   ]
  },
  {
   "cell_type": "code",
   "execution_count": 5,
   "metadata": {},
   "outputs": [
    {
     "name": "stdout",
     "output_type": "stream",
     "text": [
      "[AdaBoost] Accuracy: 0.584 +/- 0.057\n"
     ]
    }
   ],
   "source": [
    "tree = DecisionTreeClassifier(criterion=\"entropy\", max_depth=1)\n",
    "ada = AdaBoostClassifier(estimator=tree, n_estimators=500)\n",
    "\n",
    "score = cross_val_score(\n",
    "    estimator=ada, X=x_train, y=y_train, cv=10, n_jobs=-1, scoring=\"accuracy\"\n",
    ")\n",
    "print(f\"[AdaBoost] Accuracy: {score.mean():.3f} +/- {score.std():.3f}\")"
   ]
  },
  {
   "cell_type": "markdown",
   "metadata": {},
   "source": [
    "## Grid Search\n",
    "\n",
    "從結果可以看到，隨著深度提升，整體 Adaboost 的表現是提升的。我認為雖說 Boost 是通過多個 Weak classifier 去組成，但過差的 Weak classifier 或許還是會帶來不好的表現。\n"
   ]
  },
  {
   "cell_type": "code",
   "execution_count": 6,
   "metadata": {},
   "outputs": [
    {
     "name": "stdout",
     "output_type": "stream",
     "text": [
      "[GridSearch Test Score]\n",
      "Depth: 1 Score: 0.610\n",
      "Depth: 3 Score: 0.766\n",
      "Depth: 5 Score: 0.812\n",
      "Depth: 7 Score: 0.824\n",
      "Depth: 9 Score: 0.825\n",
      "\n",
      "[Best GridSearch] Accuracy: 0.816\n"
     ]
    }
   ],
   "source": [
    "tree_depth = [1, 3, 5, 7, 9]\n",
    "tree = DecisionTreeClassifier(criterion=\"entropy\")\n",
    "ada = AdaBoostClassifier(estimator=tree, n_estimators=500)\n",
    "gs = GridSearchCV(\n",
    "    estimator=ada,\n",
    "    param_grid={\n",
    "        \"estimator__max_depth\": tree_depth,\n",
    "    },\n",
    ")\n",
    "\n",
    "gs = gs.fit(x_train, y_train)\n",
    "\n",
    "print(\"[GridSearch Test Score]\")\n",
    "for depth, score in zip(tree_depth, gs.cv_results_[\"mean_test_score\"]):\n",
    "    print(f\"Depth: {depth} Score: {score:.3f}\")\n",
    "print()\n",
    "\n",
    "clf = gs.best_estimator_\n",
    "clf.fit(x_train, y_train)\n",
    "y_pred = clf.predict(x_test)\n",
    "print(f\"[Best GridSearch] Accuracy: {accuracy_score(y_test, y_pred):.3f}\")"
   ]
  }
 ],
 "metadata": {
  "kernelspec": {
   "display_name": ".venv",
   "language": "python",
   "name": "python3"
  },
  "language_info": {
   "codemirror_mode": {
    "name": "ipython",
    "version": 3
   },
   "file_extension": ".py",
   "mimetype": "text/x-python",
   "name": "python",
   "nbconvert_exporter": "python",
   "pygments_lexer": "ipython3",
   "version": "3.10.12"
  }
 },
 "nbformat": 4,
 "nbformat_minor": 2
}
