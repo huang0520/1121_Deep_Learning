{
 "cells": [
  {
   "cell_type": "code",
   "execution_count": 1,
   "metadata": {},
   "outputs": [
    {
     "name": "stderr",
     "output_type": "stream",
     "text": [
      "2023-11-07 09:51:19.774358: E tensorflow/compiler/xla/stream_executor/cuda/cuda_dnn.cc:9342] Unable to register cuDNN factory: Attempting to register factory for plugin cuDNN when one has already been registered\n",
      "2023-11-07 09:51:19.774412: E tensorflow/compiler/xla/stream_executor/cuda/cuda_fft.cc:609] Unable to register cuFFT factory: Attempting to register factory for plugin cuFFT when one has already been registered\n",
      "2023-11-07 09:51:19.775906: E tensorflow/compiler/xla/stream_executor/cuda/cuda_blas.cc:1518] Unable to register cuBLAS factory: Attempting to register factory for plugin cuBLAS when one has already been registered\n"
     ]
    }
   ],
   "source": [
    "import csv\n",
    "import importlib\n",
    "import itertools\n",
    "import math\n",
    "import os\n",
    "import pathlib\n",
    "import time\n",
    "import urllib.request\n",
    "import warnings\n",
    "from ast import In\n",
    "from collections import defaultdict\n",
    "from dataclasses import dataclass\n",
    "from tabnanny import check\n",
    "\n",
    "warnings.filterwarnings(\"ignore\")\n",
    "os.environ[\"TF_CPP_MIN_LOG_LEVEL\"] = \"2\"\n",
    "\n",
    "import matplotlib.pyplot as plt\n",
    "import numpy as np\n",
    "import pandas as pd\n",
    "import tensorflow as tf\n",
    "from sklearn.model_selection import train_test_split\n",
    "from sklearn.utils import shuffle\n",
    "from tensorflow.keras import datasets, layers, models, utils\n",
    "from tensorflow.keras.applications.vgg16 import VGG16\n",
    "from tqdm import tqdm\n"
   ]
  },
  {
   "cell_type": "code",
   "execution_count": 2,
   "metadata": {},
   "outputs": [],
   "source": [
    "# CONSTANT\n",
    "RANDOM_STATE = 0\n",
    "BUFFER_SIZE = 8500\n",
    "BATCH_SIZE = 64\n",
    "NUM_CLASS = 10\n",
    "MIN_TIME = 200\n",
    "\n",
    "IMG_PATH = \"./data/oregon_wildlife\"\n",
    "INPUT_DIR = \"./input\"\n",
    "CHECKPOINT_DIR = \"./checkpoint\"\n",
    "\n",
    "IMAGE_SIZE_CROPPED = 224\n",
    "IMAGE_HEIGHT = 300\n",
    "IMAGE_WIDTH = 300\n",
    "IMAGE_DEPTH = 3\n",
    "\n",
    "# Set random seed\n",
    "tf.random.set_seed(RANDOM_STATE)\n",
    "\n",
    "# Set GPU\n",
    "os.environ[\"CUDA_VISIBLE_DEVICES\"] = \"0, 1\"\n",
    "\n",
    "# Create directory\n",
    "if not os.path.exists(INPUT_DIR):\n",
    "    os.makedirs(INPUT_DIR)\n",
    "\n",
    "if not os.path.exists(CHECKPOINT_DIR):\n",
    "    os.makedirs(CHECKPOINT_DIR)\n",
    "\n",
    "# Download lib\n",
    "if not os.path.exists(\"lib/lab11_1_lib.py\"):\n",
    "    urllib.request.urlretrieve(\n",
    "        \"https://nthu-datalab.github.io/ml/labs/11-1_CNN/lab11_1_lib.py\",\n",
    "        \"src/lab11_1_lib.py\",\n",
    "    )\n",
    "\n",
    "lab11_1_lib = importlib.import_module(\"lib.lab11_1_lib\")\n",
    "draw_timeline = lab11_1_lib.draw_timeline\n"
   ]
  },
  {
   "cell_type": "code",
   "execution_count": 3,
   "metadata": {},
   "outputs": [],
   "source": [
    "def load_data():\n",
    "    img_dir = pathlib.Path(IMG_PATH)\n",
    "\n",
    "    # Get paths of all images\n",
    "    all_image_paths = list(img_dir.glob(\"*/*\"))\n",
    "    all_image_paths = [str(path) for path in all_image_paths]\n",
    "    all_image_paths = shuffle(all_image_paths, random_state=RANDOM_STATE)\n",
    "    all_image_paths = [\n",
    "        path for path in all_image_paths if path[-3:] not in (\"gif\", \"bmp\")\n",
    "    ]\n",
    "\n",
    "    # Get class name of labels\n",
    "    img_labels = sorted(item.name for item in img_dir.glob(\"*\") if item.is_dir())\n",
    "\n",
    "    # Build mapping from label class to label index and reverse\n",
    "    label_to_index = {class_name: index for index, class_name in enumerate(img_labels)}\n",
    "    index_to_label = {index: class_name for index, class_name in enumerate(img_labels)}\n",
    "\n",
    "    # Get all image labels\n",
    "    all_image_labels = [\n",
    "        label_to_index[pathlib.Path(path).parent.name] for path in all_image_paths\n",
    "    ]\n",
    "\n",
    "    # Get total number of images\n",
    "    image_count = len(all_image_paths)\n",
    "    print(f\"Totol number of images: {image_count}\")\n",
    "\n",
    "    # Get number of classes\n",
    "    class_count = len(img_labels)\n",
    "    print(f\"Totol number of classes: {class_count}\")\n",
    "    print(f\"Labels: {img_labels}\")\n",
    "    print(f\"Mappings: {label_to_index}\")\n",
    "\n",
    "    @dataclass\n",
    "    class LabelIndexMapping:\n",
    "        label_to_index: dict\n",
    "        index_to_label: dict\n",
    "\n",
    "    return list(zip(all_image_paths, all_image_labels)), LabelIndexMapping(\n",
    "        label_to_index, index_to_label\n",
    "    )\n",
    "\n",
    "\n",
    "def make_train_test_csv(input_pairs, test_size=0.2):\n",
    "    # Split image paths to train and test image paths\n",
    "    train_pairs, test_pairs = train_test_split(\n",
    "        input_pairs, test_size=test_size, random_state=RANDOM_STATE\n",
    "    )\n",
    "\n",
    "    # Create train csv\n",
    "    with open(os.path.join(INPUT_DIR, \"train.csv\"), \"w\", newline=\"\") as csvfile:\n",
    "        writer = csv.writer(csvfile)\n",
    "        writer.writerow([\"img_path\", \"label\"])\n",
    "        for img_path, img_label in train_pairs:\n",
    "            writer.writerow([img_path, img_label])\n",
    "\n",
    "    # Create test csv\n",
    "    with open(os.path.join(INPUT_DIR, \"test.csv\"), \"w\", newline=\"\") as csvfile:\n",
    "        writer = csv.writer(csvfile)\n",
    "        writer.writerow([\"img_path\", \"label\"])\n",
    "        for img_path, img_label in test_pairs:\n",
    "            writer.writerow([img_path, img_label])\n",
    "\n",
    "    return len(train_pairs), len(test_pairs)\n"
   ]
  },
  {
   "cell_type": "code",
   "execution_count": 4,
   "metadata": {},
   "outputs": [],
   "source": [
    "class TimeMeasuredDataset(tf.data.Dataset):\n",
    "    # OUTPUT: (steps, timings, counters, img, label)\n",
    "    OUTPUT_SIGNATURE = (\n",
    "        # steps: [(\"Open\",), (\"Read\",)]\n",
    "        tf.TensorSpec(shape=(2, 1), dtype=tf.string),\n",
    "        # timings: [(open_enter, open_elapsed), (read_enter, read_elapsed)]\n",
    "        tf.TensorSpec(shape=(2, 2), dtype=tf.float32),\n",
    "        # counters: [\n",
    "        # (instance_idx, epoch_idx, -1), (instance_idx, epoch_idx, example_idx)\n",
    "        # ]\n",
    "        tf.TensorSpec(shape=(2, 3), dtype=tf.int32),\n",
    "        tf.TensorSpec(shape=(300, 300, 3), dtype=tf.float32),\n",
    "        tf.TensorSpec(shape=(), dtype=tf.int32),\n",
    "    )\n",
    "\n",
    "    # Number of datasets generated\n",
    "    _INSTANCES_COUNTER = itertools.count()\n",
    "    # Number of epochs done for each dataset\n",
    "    _EPOCHS_COUNTER = defaultdict(itertools.count)\n",
    "\n",
    "    def _generator(instance_idx, filename, open_file, read_file):\n",
    "        epoch_idx = next(TimeMeasuredDataset._EPOCHS_COUNTER[instance_idx])\n",
    "\n",
    "        # Opening the file\n",
    "        open_enter = time.perf_counter()\n",
    "        img_paths, img_label = open_file(filename)\n",
    "        open_elapsed = time.perf_counter() - open_enter\n",
    "\n",
    "        # Reading the file\n",
    "        for sample_idx in range(len(img_paths)):\n",
    "            # Reading data (line, record) from the file\n",
    "            read_enter = time.perf_counter()\n",
    "            img = read_file(img_paths[sample_idx])\n",
    "            read_elapsed = time.perf_counter() - read_enter\n",
    "\n",
    "            yield (\n",
    "                [(\"Open\",), (\"Read\",)],\n",
    "                [(open_enter, open_elapsed), (read_enter, read_elapsed)],\n",
    "                [(instance_idx, epoch_idx, -1), (instance_idx, epoch_idx, sample_idx)],\n",
    "                img,\n",
    "                img_label[sample_idx],\n",
    "            )\n",
    "            open_enter, open_elapsed = -1.0, -1.0  # Negative values will be filtered\n",
    "\n",
    "    def __new__(cls, filename, open_file, read_file):\n",
    "        def generator_func(instance_idx, filename):\n",
    "            return cls._generator(instance_idx, filename, open_file, read_file)\n",
    "\n",
    "        return tf.data.Dataset.from_generator(\n",
    "            generator_func,\n",
    "            output_signature=cls.OUTPUT_SIGNATURE,\n",
    "            args=(next(cls._INSTANCES_COUNTER), filename),\n",
    "        )\n"
   ]
  },
  {
   "cell_type": "code",
   "execution_count": 5,
   "metadata": {},
   "outputs": [],
   "source": [
    "def open_file(filename):\n",
    "    rows = pd.read_csv(filename.decode(\"utf-8\"))\n",
    "    img_paths = rows[\"img_path\"].tolist()\n",
    "    img_label = rows[\"label\"].tolist()\n",
    "    return img_paths, img_label\n",
    "\n",
    "\n",
    "def read_file(image_path):\n",
    "    img = tf.io.read_file(image_path)\n",
    "    img = tf.image.decode_jpeg(img, channels=IMAGE_DEPTH)\n",
    "    img = tf.image.resize(img, (IMAGE_HEIGHT, IMAGE_WIDTH))\n",
    "    img = tf.cast(img, tf.float32)\n",
    "    img = tf.divide(img, 255.0)\n",
    "    return img\n",
    "\n",
    "\n",
    "def dataset_generator_fun_train(*args):\n",
    "    return TimeMeasuredDataset(\n",
    "        os.path.join(INPUT_DIR, \"train.csv\"), open_file, read_file\n",
    "    )\n",
    "\n",
    "\n",
    "def dataset_generator_fun_test(*args):\n",
    "    return TimeMeasuredDataset(\n",
    "        os.path.join(INPUT_DIR, \"test.csv\"), open_file, read_file\n",
    "    )\n"
   ]
  },
  {
   "cell_type": "code",
   "execution_count": 6,
   "metadata": {},
   "outputs": [
    {
     "name": "stdout",
     "output_type": "stream",
     "text": [
      "Totol number of images: 7168\n",
      "Totol number of classes: 10\n",
      "Labels: ['bald_eagle', 'black_bear', 'cougar', 'deer', 'nutria', 'raccoon', 'raven', 'red_fox', 'sea_lions', 'virginia_opossum']\n",
      "Mappings: {'bald_eagle': 0, 'black_bear': 1, 'cougar': 2, 'deer': 3, 'nutria': 4, 'raccoon': 5, 'raven': 6, 'red_fox': 7, 'sea_lions': 8, 'virginia_opossum': 9}\n"
     ]
    }
   ],
   "source": [
    "# Change the input to specific format\n",
    "input_pairs, label_index_mapping = load_data()\n",
    "train_size, test_size = make_train_test_csv(input_pairs)\n",
    "\n",
    "# Make train and test dataset\n",
    "dataset_train = (\n",
    "    tf.data.Dataset.range(1)\n",
    "    .flat_map(dataset_generator_fun_train)\n",
    "    .batch(BATCH_SIZE, drop_remainder=True)\n",
    ")\n",
    "dataset_test = (\n",
    "    tf.data.Dataset.range(1)\n",
    "    .flat_map(dataset_generator_fun_test)\n",
    "    .batch(BATCH_SIZE, drop_remainder=True)\n",
    ")\n"
   ]
  },
  {
   "cell_type": "code",
   "execution_count": 7,
   "metadata": {},
   "outputs": [
    {
     "name": "stdout",
     "output_type": "stream",
     "text": [
      "Model: \"model\"\n",
      "_________________________________________________________________\n",
      " Layer (type)                Output Shape              Param #   \n",
      "=================================================================\n",
      " input_1 (InputLayer)        [(None, 300, 300, 3)]     0         \n",
      "                                                                 \n",
      " block1_conv1 (Conv2D)       (None, 300, 300, 64)      1792      \n",
      "                                                                 \n",
      " block1_conv2 (Conv2D)       (None, 300, 300, 64)      36928     \n",
      "                                                                 \n",
      " block1_pool (MaxPooling2D)  (None, 150, 150, 64)      0         \n",
      "                                                                 \n",
      " block2_conv1 (Conv2D)       (None, 150, 150, 128)     73856     \n",
      "                                                                 \n",
      " block2_conv2 (Conv2D)       (None, 150, 150, 128)     147584    \n",
      "                                                                 \n",
      " block2_pool (MaxPooling2D)  (None, 75, 75, 128)       0         \n",
      "                                                                 \n",
      " block3_conv1 (Conv2D)       (None, 75, 75, 256)       295168    \n",
      "                                                                 \n",
      " block3_conv2 (Conv2D)       (None, 75, 75, 256)       590080    \n",
      "                                                                 \n",
      " block3_conv3 (Conv2D)       (None, 75, 75, 256)       590080    \n",
      "                                                                 \n",
      " block3_pool (MaxPooling2D)  (None, 37, 37, 256)       0         \n",
      "                                                                 \n",
      " block4_conv1 (Conv2D)       (None, 37, 37, 512)       1180160   \n",
      "                                                                 \n",
      " block4_conv2 (Conv2D)       (None, 37, 37, 512)       2359808   \n",
      "                                                                 \n",
      " block4_conv3 (Conv2D)       (None, 37, 37, 512)       2359808   \n",
      "                                                                 \n",
      " block4_pool (MaxPooling2D)  (None, 18, 18, 512)       0         \n",
      "                                                                 \n",
      " block5_conv1 (Conv2D)       (None, 18, 18, 512)       2359808   \n",
      "                                                                 \n",
      " block5_conv2 (Conv2D)       (None, 18, 18, 512)       2359808   \n",
      "                                                                 \n",
      " block5_conv3 (Conv2D)       (None, 18, 18, 512)       2359808   \n",
      "                                                                 \n",
      " block5_pool (MaxPooling2D)  (None, 9, 9, 512)         0         \n",
      "                                                                 \n",
      " sequential (Sequential)     (None, 10)                174078986 \n",
      "                                                                 \n",
      "=================================================================\n",
      "Total params: 188793674 (720.19 MB)\n",
      "Trainable params: 174078986 (664.06 MB)\n",
      "Non-trainable params: 14714688 (56.13 MB)\n",
      "_________________________________________________________________\n"
     ]
    }
   ],
   "source": [
    "base_model = VGG16(\n",
    "    include_top=False,\n",
    "    weights=\"imagenet\",\n",
    "    input_shape=(IMAGE_HEIGHT, IMAGE_WIDTH, IMAGE_DEPTH),\n",
    "    pooling=None,\n",
    ")\n",
    "for layer in base_model.layers:\n",
    "    layer.trainable = False\n",
    "\n",
    "top_model = models.Sequential()\n",
    "top_model.add(layers.Flatten())\n",
    "top_model.add(layers.Dense(4096, activation=\"relu\"))\n",
    "top_model.add(layers.Dropout(0.5))\n",
    "top_model.add(layers.Dense(1024, activation=\"relu\"))\n",
    "top_model.add(layers.Dropout(0.5))\n",
    "top_model.add(layers.Dense(NUM_CLASS, activation=\"softmax\"))\n",
    "\n",
    "wild_model = tf.keras.Model(\n",
    "    inputs=base_model.input, outputs=top_model(base_model.output)\n",
    ")\n",
    "\n",
    "wild_model.save_weights(os.path.join(CHECKPOINT_DIR, \"wild_model.h5\"))\n",
    "wild_model.summary()\n"
   ]
  },
  {
   "cell_type": "code",
   "execution_count": 8,
   "metadata": {},
   "outputs": [],
   "source": [
    "loss_object = tf.keras.losses.SparseCategoricalCrossentropy(from_logits=True)\n",
    "optimizer = tf.keras.optimizers.Adam()\n",
    "\n",
    "train_loss = tf.keras.metrics.Mean(name=\"train_loss\")\n",
    "train_accuracy = tf.keras.metrics.SparseCategoricalAccuracy(name=\"train_accuracy\")\n",
    "\n",
    "test_loss = tf.keras.metrics.Mean(name=\"test_loss\")\n",
    "test_accuracy = tf.keras.metrics.SparseCategoricalAccuracy(name=\"test_accuracy\")\n"
   ]
  },
  {
   "cell_type": "code",
   "execution_count": 9,
   "metadata": {},
   "outputs": [],
   "source": [
    "@tf.function\n",
    "def train_step(image, img_label):\n",
    "    with tf.GradientTape() as tape:\n",
    "        predictions = wild_model(image, training=True)\n",
    "        loss = loss_object(img_label, predictions)\n",
    "    gradients = tape.gradient(loss, wild_model.trainable_variables)\n",
    "    optimizer.apply_gradients(zip(gradients, wild_model.trainable_variables))\n",
    "\n",
    "    train_loss(loss)\n",
    "    train_accuracy(img_label, predictions)\n",
    "\n",
    "\n",
    "@tf.function\n",
    "def test_step(image, img_label):\n",
    "    predictions = wild_model(image, training=False)\n",
    "    loss = loss_object(img_label, predictions)\n",
    "\n",
    "    test_loss(loss)\n",
    "    test_accuracy(img_label, predictions)\n"
   ]
  },
  {
   "cell_type": "code",
   "execution_count": 10,
   "metadata": {},
   "outputs": [],
   "source": [
    "def timelined_benchmark(dataset_train, dataset_test, EPOCHS):\n",
    "    steps_acc = tf.zeros([0, 1], dtype=tf.dtypes.string)\n",
    "    times_acc = tf.zeros([0, 2], dtype=tf.dtypes.float32)\n",
    "    values_acc = tf.zeros([0, 3], dtype=tf.dtypes.int32)\n",
    "\n",
    "    start_time = time.perf_counter()\n",
    "    print(\"start time: \", start_time)\n",
    "    for epoch in range(EPOCHS):\n",
    "        epoch_enter = time.perf_counter()\n",
    "\n",
    "        # Reset the metrics at the start of the next epoch\n",
    "        train_loss.reset_states()\n",
    "        train_accuracy.reset_states()\n",
    "        test_loss.reset_states()\n",
    "        test_accuracy.reset_states()\n",
    "\n",
    "        tf.print(\"training:\")\n",
    "        for steps, times, values, image, img_label in tqdm(\n",
    "            dataset_train, total=math.floor(train_size / BATCH_SIZE)\n",
    "        ):\n",
    "            time.sleep(0.05)\n",
    "\n",
    "            steps_acc = tf.concat(\n",
    "                [steps_acc, tf.reshape(steps, (steps.shape[0] * steps.shape[1], 1))],\n",
    "                axis=0,\n",
    "            )\n",
    "            times_acc = tf.concat(\n",
    "                [times_acc, tf.reshape(times, (times.shape[0] * times.shape[1], 2))],\n",
    "                axis=0,\n",
    "            )\n",
    "            values_acc = tf.concat(\n",
    "                [\n",
    "                    values_acc,\n",
    "                    tf.reshape(values, (values.shape[0] * values.shape[1], 3)),\n",
    "                ],\n",
    "                axis=0,\n",
    "            )\n",
    "\n",
    "            # record training time\n",
    "            train_enter = time.perf_counter()\n",
    "            train_step(image, img_label)\n",
    "            train_elapsed = time.perf_counter() - train_enter\n",
    "\n",
    "            time.sleep(0.05)\n",
    "\n",
    "            train_time = tf.concat(\n",
    "                [\n",
    "                    tf.fill([times.shape[0], 1], train_enter),\n",
    "                    tf.fill([times.shape[0], 1], train_elapsed),\n",
    "                ],\n",
    "                axis=1,\n",
    "            )  # shape=(times.shape[0], 2)\n",
    "            steps_acc = tf.concat(\n",
    "                [steps_acc, tf.fill([steps.shape[0], 1], \"Train\")], axis=0\n",
    "            )\n",
    "            times_acc = tf.concat([times_acc, train_time], axis=0)\n",
    "            values_acc = tf.concat([values_acc, values[:, -1, :]], axis=0)\n",
    "\n",
    "        tf.print(\"testing:\")\n",
    "        for steps, times, values, image, img_label in tqdm(\n",
    "            dataset_test, total=math.floor(test_size / BATCH_SIZE)\n",
    "        ):\n",
    "            time.sleep(0.05)\n",
    "\n",
    "            steps_acc = tf.concat(\n",
    "                [steps_acc, tf.reshape(steps, (steps.shape[0] * steps.shape[1], 1))],\n",
    "                axis=0,\n",
    "            )\n",
    "            times_acc = tf.concat(\n",
    "                [times_acc, tf.reshape(times, (times.shape[0] * times.shape[1], 2))],\n",
    "                axis=0,\n",
    "            )\n",
    "            values_acc = tf.concat(\n",
    "                [\n",
    "                    values_acc,\n",
    "                    tf.reshape(values, (values.shape[0] * values.shape[1], 3)),\n",
    "                ],\n",
    "                axis=0,\n",
    "            )\n",
    "\n",
    "            test_enter = time.perf_counter()\n",
    "            test_step(image, img_label)\n",
    "            test_elapsed = time.perf_counter() - test_enter\n",
    "\n",
    "            time.sleep(0.05)\n",
    "\n",
    "            test_time = tf.concat(\n",
    "                [\n",
    "                    tf.fill([times.shape[0], 1], test_enter),\n",
    "                    tf.fill([times.shape[0], 1], test_elapsed),\n",
    "                ],\n",
    "                axis=1,\n",
    "            )  # shape=(times.shape[0], 2)\n",
    "            steps_acc = tf.concat(\n",
    "                [steps_acc, tf.fill([steps.shape[0], 1], \"Test\")], axis=0\n",
    "            )\n",
    "            times_acc = tf.concat([times_acc, test_time], axis=0)\n",
    "            values_acc = tf.concat([values_acc, values[:, -1, :]], axis=0)\n",
    "\n",
    "        template = \"Epoch {:0}, Loss: {:.4f}, Accuracy: {:.4f}, test Loss: {:.4f}, test Accuracy: {:.4f}\"\n",
    "        tf.print(\n",
    "            template.format(\n",
    "                epoch + 1,\n",
    "                train_loss.result(),\n",
    "                train_accuracy.result() * 100,\n",
    "                test_loss.result(),\n",
    "                test_accuracy.result() * 100,\n",
    "            )\n",
    "        )\n",
    "\n",
    "        epoch_elapsed = time.perf_counter() - epoch_enter\n",
    "        steps_acc = tf.concat([steps_acc, [[\"Epoch\"]]], axis=0)\n",
    "        times_acc = tf.concat([times_acc, [(epoch_enter, epoch_elapsed)]], axis=0)\n",
    "        values_acc = tf.concat([values_acc, [[-1, epoch, -1]]], axis=0)\n",
    "\n",
    "    tf.print(\"Execution time:\", time.perf_counter() - start_time)\n",
    "    return {\"steps\": steps_acc, \"times\": times_acc, \"values\": values_acc}\n"
   ]
  },
  {
   "cell_type": "code",
   "execution_count": 11,
   "metadata": {},
   "outputs": [],
   "source": [
    "def check_image(dataset_train):\n",
    "    for steps, timings, counters, img, label in dataset_train.take(1):\n",
    "        print(steps[0], timings[0], counters[0])\n",
    "        print(img[0].shape)\n",
    "        plt.imshow(img[0])\n",
    "        plt.axis(\"off\")\n",
    "        plt.show()\n",
    "        print(label_index_mapping.index_to_label[label[0].numpy()])\n"
   ]
  },
  {
   "cell_type": "code",
   "execution_count": 19,
   "metadata": {},
   "outputs": [
    {
     "name": "stdout",
     "output_type": "stream",
     "text": [
      "start time:  435712.460903925\n",
      "training:\n"
     ]
    },
    {
     "name": "stderr",
     "output_type": "stream",
     "text": [
      "100%|██████████| 89/89 [01:38<00:00,  1.10s/it]"
     ]
    },
    {
     "name": "stdout",
     "output_type": "stream",
     "text": [
      "testing:\n"
     ]
    },
    {
     "name": "stderr",
     "output_type": "stream",
     "text": [
      "\n",
      "100%|██████████| 22/22 [00:23<00:00,  1.08s/it]"
     ]
    },
    {
     "name": "stdout",
     "output_type": "stream",
     "text": [
      "Epoch 1, Loss: 1.1315, Accuracy: 61.3764, test Loss: 0.6541, test Accuracy: 80.9659\n",
      "training:\n"
     ]
    },
    {
     "name": "stderr",
     "output_type": "stream",
     "text": [
      "\n",
      "100%|██████████| 89/89 [01:36<00:00,  1.08s/it]"
     ]
    },
    {
     "name": "stdout",
     "output_type": "stream",
     "text": [
      "testing:\n"
     ]
    },
    {
     "name": "stderr",
     "output_type": "stream",
     "text": [
      "\n",
      "100%|██████████| 22/22 [00:23<00:00,  1.06s/it]"
     ]
    },
    {
     "name": "stdout",
     "output_type": "stream",
     "text": [
      "Epoch 2, Loss: 0.8891, Accuracy: 69.5751, test Loss: 0.6082, test Accuracy: 81.6761\n"
     ]
    },
    {
     "name": "stderr",
     "output_type": "stream",
     "text": [
      "\n"
     ]
    },
    {
     "name": "stdout",
     "output_type": "stream",
     "text": [
      "training:\n"
     ]
    },
    {
     "name": "stderr",
     "output_type": "stream",
     "text": [
      "100%|██████████| 89/89 [01:35<00:00,  1.07s/it]"
     ]
    },
    {
     "name": "stdout",
     "output_type": "stream",
     "text": [
      "testing:\n"
     ]
    },
    {
     "name": "stderr",
     "output_type": "stream",
     "text": [
      "\n",
      "100%|██████████| 22/22 [00:22<00:00,  1.04s/it]"
     ]
    },
    {
     "name": "stdout",
     "output_type": "stream",
     "text": [
      "Epoch 3, Loss: 0.8830, Accuracy: 68.7324, test Loss: 0.5258, test Accuracy: 84.8011\n",
      "Execution time: 359.71049458597554\n"
     ]
    },
    {
     "name": "stderr",
     "output_type": "stream",
     "text": [
      "\n"
     ]
    }
   ],
   "source": [
    "timeline_Naive = timelined_benchmark(dataset_train, dataset_test, EPOCHS=3)\n"
   ]
  },
  {
   "cell_type": "code",
   "execution_count": 20,
   "metadata": {},
   "outputs": [
    {
     "data": {
      "image/png": "[encoded data removed]",
      "text/plain": [
       "<Figure size 1700x500 with 5 Axes>"
      ]
     },
     "metadata": {},
     "output_type": "display_data"
    }
   ],
   "source": [
    "draw_timeline(timeline=timeline_Naive, title=\"Naive\", min_width=250)\n"
   ]
  },
  {
   "cell_type": "code",
   "execution_count": 14,
   "metadata": {},
   "outputs": [],
   "source": [
    "def map_decorator(func):\n",
    "    def wrapper(steps, times, values, image, label):\n",
    "        # Use a tf.py_function to prevent auto-graph from compiling the method\n",
    "        return tf.py_function(\n",
    "            func,\n",
    "            inp=(steps, times, values, image, label),\n",
    "            Tout=(steps.dtype, times.dtype, values.dtype, image.dtype, tf.float32),\n",
    "        )\n",
    "\n",
    "    return wrapper\n",
    "\n",
    "\n",
    "@map_decorator\n",
    "def map_train_with_transformation(steps, times, values, image, label):\n",
    "    # sleep to avoid concurrency issue\n",
    "    time.sleep(0.05)\n",
    "\n",
    "    # record the enter time\n",
    "    map_enter = time.perf_counter()\n",
    "\n",
    "    # Cast label to float32\n",
    "    label = tf.cast(label, tf.float32)\n",
    "\n",
    "    # Distort image and standardize image\n",
    "    distorted_image = tf.image.random_crop(\n",
    "        image, [IMAGE_SIZE_CROPPED, IMAGE_SIZE_CROPPED, IMAGE_DEPTH]\n",
    "    )\n",
    "    distorted_image = tf.image.per_image_standardization(distorted_image)\n",
    "\n",
    "    # Transpose and resize image to fit the model\n",
    "    distorted_image = tf.image.resize(distorted_image, [IMAGE_HEIGHT, IMAGE_WIDTH])\n",
    "\n",
    "    map_elapsed = time.perf_counter() - map_enter\n",
    "\n",
    "    return (\n",
    "        tf.concat((steps, [[\"Map\"]]), axis=0),\n",
    "        tf.concat((times, [[map_enter, map_elapsed]]), axis=0),\n",
    "        tf.concat((values, [values[-1]]), axis=0),\n",
    "        distorted_image,\n",
    "        label,\n",
    "    )\n",
    "\n",
    "\n",
    "@map_decorator\n",
    "def map_test_with_transformation(steps, times, values, image, label):\n",
    "    # sleep to avoid concurrency issue\n",
    "    time.sleep(0.05)\n",
    "\n",
    "    # Record the enter time\n",
    "    map_enter = time.perf_counter()\n",
    "\n",
    "    # Cast label to float32\n",
    "    label = tf.cast(label, tf.float32)\n",
    "\n",
    "    # Distort image and standardize image\n",
    "    distorted_image = tf.image.resize_with_crop_or_pad(\n",
    "        image, IMAGE_SIZE_CROPPED, IMAGE_SIZE_CROPPED\n",
    "    )\n",
    "    distorted_image = tf.image.per_image_standardization(distorted_image)\n",
    "\n",
    "    # Transpose and resize image to fit the model\n",
    "    distorted_image = tf.image.resize(distorted_image, [IMAGE_HEIGHT, IMAGE_WIDTH])\n",
    "\n",
    "    map_elapsed = time.perf_counter() - map_enter\n",
    "\n",
    "    return (\n",
    "        tf.concat((steps, [[\"Map\"]]), axis=0),\n",
    "        tf.concat((times, [[map_enter, map_elapsed]]), axis=0),\n",
    "        tf.concat((values, [values[-1]]), axis=0),\n",
    "        distorted_image,\n",
    "        label,\n",
    "    )\n"
   ]
  },
  {
   "cell_type": "code",
   "execution_count": 15,
   "metadata": {},
   "outputs": [],
   "source": [
    "dataset_train_with_transformation = (\n",
    "    tf.data.Dataset.range(1)\n",
    "    .flat_map(dataset_generator_fun_train)\n",
    "    .map(map_train_with_transformation)\n",
    "    .batch(BATCH_SIZE, drop_remainder=True)\n",
    ")\n",
    "\n",
    "dataset_test_with_transformation = (\n",
    "    tf.data.Dataset.range(1)\n",
    "    .flat_map(dataset_generator_fun_test)\n",
    "    .map(map_test_with_transformation)\n",
    "    .batch(BATCH_SIZE, drop_remainder=True)\n",
    ")\n"
   ]
  },
  {
   "cell_type": "code",
   "execution_count": 16,
   "metadata": {},
   "outputs": [
    {
     "name": "stdout",
     "output_type": "stream",
     "text": [
      "start time:  432478.41906559\n",
      "training:\n"
     ]
    },
    {
     "name": "stderr",
     "output_type": "stream",
     "text": [
      "100%|██████████| 89/89 [08:03<00:00,  5.43s/it]"
     ]
    },
    {
     "name": "stdout",
     "output_type": "stream",
     "text": [
      "testing:\n"
     ]
    },
    {
     "name": "stderr",
     "output_type": "stream",
     "text": [
      "\n",
      "100%|██████████| 22/22 [02:04<00:00,  5.65s/it]"
     ]
    },
    {
     "name": "stdout",
     "output_type": "stream",
     "text": [
      "Epoch 1, Loss: 4.7538, Accuracy: 37.5702, test Loss: 0.5834, test Accuracy: 83.0966\n",
      "training:\n"
     ]
    },
    {
     "name": "stderr",
     "output_type": "stream",
     "text": [
      "\n",
      "100%|██████████| 89/89 [07:58<00:00,  5.37s/it]"
     ]
    },
    {
     "name": "stdout",
     "output_type": "stream",
     "text": [
      "testing:\n"
     ]
    },
    {
     "name": "stderr",
     "output_type": "stream",
     "text": [
      "\n",
      "100%|██████████| 22/22 [01:55<00:00,  5.25s/it]"
     ]
    },
    {
     "name": "stdout",
     "output_type": "stream",
     "text": [
      "Epoch 2, Loss: 0.7652, Accuracy: 73.6482, test Loss: 0.3579, test Accuracy: 88.6364\n",
      "training:\n"
     ]
    },
    {
     "name": "stderr",
     "output_type": "stream",
     "text": [
      "\n",
      "100%|██████████| 89/89 [08:02<00:00,  5.42s/it]"
     ]
    },
    {
     "name": "stdout",
     "output_type": "stream",
     "text": [
      "testing:\n"
     ]
    },
    {
     "name": "stderr",
     "output_type": "stream",
     "text": [
      "\n",
      "100%|██████████| 22/22 [01:52<00:00,  5.11s/it]"
     ]
    },
    {
     "name": "stdout",
     "output_type": "stream",
     "text": [
      "Epoch 3, Loss: 0.5878, Accuracy: 80.5478, test Loss: 0.2687, test Accuracy: 91.4773\n",
      "Execution time: 1796.4688460089965\n"
     ]
    },
    {
     "name": "stderr",
     "output_type": "stream",
     "text": [
      "\n"
     ]
    }
   ],
   "source": [
    "# load the same initialization of weights and re-train with optimized input pipeline\n",
    "wild_model.load_weights(os.path.join(CHECKPOINT_DIR, \"wild_model.h5\"))\n",
    "timeline_Augmentation = timelined_benchmark(\n",
    "    dataset_train_with_transformation, dataset_test_with_transformation, EPOCHS=3\n",
    ")\n"
   ]
  },
  {
   "cell_type": "code",
   "execution_count": 17,
   "metadata": {},
   "outputs": [
    {
     "data": {
      "image/png": "[encoded data removed]",
      "text/plain": [
       "<Figure size 1700x600 with 6 Axes>"
      ]
     },
     "metadata": {},
     "output_type": "display_data"
    }
   ],
   "source": [
    "draw_timeline(timeline=timeline_Augmentation, title=\"Augmentation\", min_width=500)\n"
   ]
  },
  {
   "cell_type": "code",
   "execution_count": 15,
   "metadata": {},
   "outputs": [],
   "source": [
    "@map_decorator\n",
    "def map_train_with_transformation_batchwise(steps, times, values, image, label):\n",
    "    # sleep to avoid concurrency issue\n",
    "\n",
    "    # record the enter time\n",
    "    map_enter = time.perf_counter()\n",
    "\n",
    "    # Cast label to float32\n",
    "    label = tf.cast(label, tf.float32)\n",
    "\n",
    "    # Distort image and standardize image\n",
    "    distorted_image = tf.image.random_crop(\n",
    "        image, [tf.shape(image)[0], IMAGE_SIZE_CROPPED, IMAGE_SIZE_CROPPED, IMAGE_DEPTH]\n",
    "    )\n",
    "    distorted_image = tf.image.per_image_standardization(distorted_image)\n",
    "\n",
    "    # Transpose and resize image to fit the model\n",
    "    distorted_image = tf.image.resize(distorted_image, [IMAGE_HEIGHT, IMAGE_WIDTH])\n",
    "\n",
    "    map_elapsed = time.perf_counter() - map_enter\n",
    "\n",
    "    return (\n",
    "        tf.concat((steps, tf.tile([[[\"Map\"]]], [BATCH_SIZE, 1, 1])), axis=1),\n",
    "        tf.concat(\n",
    "            (times, tf.tile([[[map_enter, map_elapsed]]], [BATCH_SIZE, 1, 1])), axis=1\n",
    "        ),\n",
    "        tf.concat((values, tf.tile([[values[:][-1][0]]], [BATCH_SIZE, 1, 1])), axis=1),\n",
    "        distorted_image,\n",
    "        label,\n",
    "    )\n",
    "\n",
    "\n",
    "@map_decorator\n",
    "def map_test_with_transformation_batchwise(steps, times, values, image, label):\n",
    "    # sleep to avoid concurrency issue\n",
    "\n",
    "    # record the enter time\n",
    "    map_enter = time.perf_counter()\n",
    "\n",
    "    # Cast label to float32\n",
    "    label = tf.cast(label, tf.float32)\n",
    "\n",
    "    # Distort image and standardize image\n",
    "    distorted_image = tf.image.resize_with_crop_or_pad(\n",
    "        image, IMAGE_SIZE_CROPPED, IMAGE_SIZE_CROPPED\n",
    "    )\n",
    "    distorted_image = tf.image.per_image_standardization(distorted_image)\n",
    "\n",
    "    # Transpose and resize image to fit the model\n",
    "    distorted_image = tf.image.resize(distorted_image, [IMAGE_HEIGHT, IMAGE_WIDTH])\n",
    "\n",
    "    map_elapsed = time.perf_counter() - map_enter\n",
    "\n",
    "    return (\n",
    "        tf.concat((steps, tf.tile([[[\"Map\"]]], [BATCH_SIZE, 1, 1])), axis=1),\n",
    "        tf.concat(\n",
    "            (times, tf.tile([[[map_enter, map_elapsed]]], [BATCH_SIZE, 1, 1])), axis=1\n",
    "        ),\n",
    "        tf.concat((values, tf.tile([[values[:][-1][0]]], [BATCH_SIZE, 1, 1])), axis=1),\n",
    "        distorted_image,\n",
    "        label,\n",
    "    )\n"
   ]
  },
  {
   "cell_type": "code",
   "execution_count": 16,
   "metadata": {},
   "outputs": [],
   "source": [
    "dataset_train_with_optimization = (\n",
    "    tf.data.Dataset.range(1)\n",
    "    .interleave(dataset_generator_fun_train, num_parallel_calls=tf.data.AUTOTUNE)\n",
    "    .batch(BATCH_SIZE, drop_remainder=True)\n",
    "    .map(map_train_with_transformation_batchwise, num_parallel_calls=tf.data.AUTOTUNE)\n",
    "    # .cache()\n",
    "    .prefetch(tf.data.AUTOTUNE)\n",
    ")\n",
    "\n",
    "dataset_test_with_optimization = (\n",
    "    tf.data.Dataset.range(1)\n",
    "    .interleave(dataset_generator_fun_test, num_parallel_calls=tf.data.AUTOTUNE)\n",
    "    .batch(BATCH_SIZE, drop_remainder=True)\n",
    "    .map(map_test_with_transformation_batchwise, num_parallel_calls=tf.data.AUTOTUNE)\n",
    "    # .cache()\n",
    "    .prefetch(tf.data.AUTOTUNE)\n",
    ")\n"
   ]
  },
  {
   "cell_type": "code",
   "execution_count": 17,
   "metadata": {},
   "outputs": [
    {
     "name": "stdout",
     "output_type": "stream",
     "text": [
      "start time:  435109.739152352\n",
      "training:\n"
     ]
    },
    {
     "name": "stderr",
     "output_type": "stream",
     "text": [
      "100%|██████████| 89/89 [01:48<00:00,  1.22s/it]"
     ]
    },
    {
     "name": "stdout",
     "output_type": "stream",
     "text": [
      "testing:\n"
     ]
    },
    {
     "name": "stderr",
     "output_type": "stream",
     "text": [
      "\n",
      "100%|██████████| 22/22 [00:25<00:00,  1.15s/it]"
     ]
    },
    {
     "name": "stdout",
     "output_type": "stream",
     "text": [
      "Epoch 1, Loss: 4.6082, Accuracy: 43.2058, test Loss: 0.5272, test Accuracy: 83.9489\n",
      "training:\n"
     ]
    },
    {
     "name": "stderr",
     "output_type": "stream",
     "text": [
      "\n",
      "100%|██████████| 89/89 [01:36<00:00,  1.09s/it]"
     ]
    },
    {
     "name": "stdout",
     "output_type": "stream",
     "text": [
      "testing:\n"
     ]
    },
    {
     "name": "stderr",
     "output_type": "stream",
     "text": [
      "\n",
      "100%|██████████| 22/22 [00:23<00:00,  1.09s/it]"
     ]
    },
    {
     "name": "stdout",
     "output_type": "stream",
     "text": [
      "Epoch 2, Loss: 0.7421, Accuracy: 74.7542, test Loss: 0.3201, test Accuracy: 89.6307\n",
      "training:\n"
     ]
    },
    {
     "name": "stderr",
     "output_type": "stream",
     "text": [
      "\n",
      "100%|██████████| 89/89 [01:36<00:00,  1.08s/it]"
     ]
    },
    {
     "name": "stdout",
     "output_type": "stream",
     "text": [
      "testing:\n"
     ]
    },
    {
     "name": "stderr",
     "output_type": "stream",
     "text": [
      "\n",
      "100%|██████████| 22/22 [00:23<00:00,  1.07s/it]"
     ]
    },
    {
     "name": "stdout",
     "output_type": "stream",
     "text": [
      "Epoch 3, Loss: 0.5672, Accuracy: 81.1973, test Loss: 0.2718, test Accuracy: 90.8381\n",
      "Execution time: 374.9372966720257\n"
     ]
    },
    {
     "name": "stderr",
     "output_type": "stream",
     "text": [
      "\n"
     ]
    }
   ],
   "source": [
    "# load the same initialization of weights and re-train with optimized input pipeline\n",
    "wild_model.load_weights(os.path.join(CHECKPOINT_DIR, \"wild_model.h5\"))\n",
    "timeline_Optimized = timelined_benchmark(\n",
    "    dataset_train_with_optimization, dataset_test_with_optimization, EPOCHS=3\n",
    ")\n"
   ]
  },
  {
   "cell_type": "code",
   "execution_count": 18,
   "metadata": {},
   "outputs": [
    {
     "data": {
      "image/png": "[encoded data removed]",
      "text/plain": [
       "<Figure size 1700x600 with 6 Axes>"
      ]
     },
     "metadata": {},
     "output_type": "display_data"
    }
   ],
   "source": [
    "draw_timeline(timeline=timeline_Optimized, title=\"Optimized\", min_width=250)\n"
   ]
  }
 ],
 "metadata": {
  "kernelspec": {
   "display_name": "Python 3",
   "language": "python",
   "name": "python3"
  },
  "language_info": {
   "codemirror_mode": {
    "name": "ipython",
    "version": 3
   },
   "file_extension": ".py",
   "mimetype": "text/x-python",
   "name": "python",
   "nbconvert_exporter": "python",
   "pygments_lexer": "ipython3",
   "version": "3.11.0rc1"
  }
 },
 "nbformat": 4,
 "nbformat_minor": 2
}
